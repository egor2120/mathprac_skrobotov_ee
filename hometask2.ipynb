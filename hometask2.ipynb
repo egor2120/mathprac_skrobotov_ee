{
 "cells": [
  {
   "cell_type": "code",
   "execution_count": 2,
   "id": "7ed5cf87-8678-4d16-91a1-f7f3a7f472c7",
   "metadata": {},
   "outputs": [],
   "source": [
    "import numpy as np\n"
   ]
  },
  {
   "cell_type": "code",
   "execution_count": 3,
   "id": "71030356-6092-4367-8207-ac490ec35e46",
   "metadata": {},
   "outputs": [
    {
     "name": "stdout",
     "output_type": "stream",
     "text": [
      "[[1. 1. 1. 1. 1. 1. 1. 1. 1. 1.]\n",
      " [1. 0. 0. 0. 0. 0. 0. 0. 0. 1.]\n",
      " [1. 0. 0. 0. 0. 0. 0. 0. 0. 1.]\n",
      " [1. 0. 0. 0. 0. 0. 0. 0. 0. 1.]\n",
      " [1. 0. 0. 0. 0. 0. 0. 0. 0. 1.]\n",
      " [1. 0. 0. 0. 0. 0. 0. 0. 0. 1.]\n",
      " [1. 0. 0. 0. 0. 0. 0. 0. 0. 1.]\n",
      " [1. 0. 0. 0. 0. 0. 0. 0. 0. 1.]\n",
      " [1. 0. 0. 0. 0. 0. 0. 0. 0. 1.]\n",
      " [1. 1. 1. 1. 1. 1. 1. 1. 1. 1.]]\n"
     ]
    }
   ],
   "source": [
    "#1\n",
    "a = np.pad(np.zeros((8,8)), pad_width=1,mode='constant', constant_values=1)\n",
    "print(a)"
   ]
  },
  {
   "cell_type": "code",
   "execution_count": 4,
   "id": "f745f5c2-82d8-4baa-a014-2d01bf02d81a",
   "metadata": {},
   "outputs": [
    {
     "name": "stdout",
     "output_type": "stream",
     "text": [
      "[[0 1 0 1 0 1 0 1]\n",
      " [1 0 1 0 1 0 1 0]\n",
      " [0 1 0 1 0 1 0 1]\n",
      " [1 0 1 0 1 0 1 0]\n",
      " [0 1 0 1 0 1 0 1]\n",
      " [1 0 1 0 1 0 1 0]\n",
      " [0 1 0 1 0 1 0 1]\n",
      " [1 0 1 0 1 0 1 0]]\n"
     ]
    }
   ],
   "source": [
    "#2\n",
    "a = (np.arange(64).reshape(8,-1) // 8 + np.arange(8)) % 2\n",
    "print(a)\n",
    "#для нечетного можно вообще проще - остаток брать"
   ]
  },
  {
   "cell_type": "code",
   "execution_count": 5,
   "id": "7e3e7bbe-091d-4fa0-bb12-b56ca8c2d9bc",
   "metadata": {},
   "outputs": [
    {
     "name": "stdout",
     "output_type": "stream",
     "text": [
      "[[0 0 0 0 0]\n",
      " [1 0 0 0 0]\n",
      " [0 2 0 0 0]\n",
      " [0 0 3 0 0]\n",
      " [0 0 0 4 0]]\n"
     ]
    }
   ],
   "source": [
    "#3\n",
    "a = np.diag(np.arange(1,5), -1)\n",
    "print(a)"
   ]
  },
  {
   "cell_type": "code",
   "execution_count": 6,
   "id": "9db82742-0bb9-46ec-b5f3-347c61dc8d15",
   "metadata": {},
   "outputs": [
    {
     "name": "stdout",
     "output_type": "stream",
     "text": [
      "[[0.04666553 0.87151671 0.63855015]\n",
      " [0.16036799 0.93444696 0.17369475]\n",
      " [0.61947296 0.46051063 0.01539703]\n",
      " [0.27894262 0.70253384 0.43177646]\n",
      " [0.34011478 0.60662881 0.71997421]\n",
      " [0.1239564  0.53858432 0.53324837]\n",
      " [0.07380047 0.6406258  0.8486291 ]\n",
      " [0.15348459 0.77223108 0.20385413]\n",
      " [0.41229741 0.60416496 0.10434683]\n",
      " [0.96190217 0.15093089 0.24695085]] \n",
      "\n",
      " [0.63855015 0.17369475 0.46051063 0.43177646 0.60662881 0.53324837\n",
      " 0.6406258  0.77223108 0.41229741 0.24695085]\n"
     ]
    }
   ],
   "source": [
    "#4\n",
    "a = np.random.random((10,3))\n",
    "mins = a[np.arange(10), np.argmin(np.abs(a-0.5), axis = 1)]\n",
    "print(a,\"\\n\\n\", mins)"
   ]
  },
  {
   "cell_type": "code",
   "execution_count": 16,
   "id": "9fe7b90d-e0ce-4362-980a-c9247327ebbd",
   "metadata": {},
   "outputs": [
    {
     "name": "stdout",
     "output_type": "stream",
     "text": [
      "[[ 0.18076966 -0.31494843  0.02780097  0.55046959 -0.44409179]\n",
      " [ 0.39735102 -0.16460939  0.14806606 -0.23990845 -0.14089924]\n",
      " [ 0.3816217  -0.1480181  -0.19303269 -0.01826786 -0.02230306]\n",
      " [ 0.33891533 -0.32491429  0.38576635  0.1150214  -0.51478879]\n",
      " [-0.09348024 -0.44076725  0.0583081   0.24573222  0.23020717]]\n",
      "[0.00000000e+00 3.33066907e-17 0.00000000e+00 0.00000000e+00\n",
      " 0.00000000e+00]\n"
     ]
    }
   ],
   "source": [
    "#5\n",
    "a = np.random.random((5,5))\n",
    "a = a - np.mean(a, axis = 1).reshape(-1,1)\n",
    "print(a)\n",
    "print(np.mean(a, axis = 1))"
   ]
  },
  {
   "cell_type": "code",
   "execution_count": 11,
   "id": "330494b4-1cd1-4593-b7d9-7d72a44bb473",
   "metadata": {},
   "outputs": [
    {
     "name": "stdout",
     "output_type": "stream",
     "text": [
      "[[0.81934605 0.87872672 0.74330036 0.38690248 0.99295368 0.19310253]\n",
      " [0.46595724 0.0275922  0.92252971 0.36787498 0.07531887 0.55519729]\n",
      " [0.71475045 0.38524654 0.60516437 0.69432782 0.37334228 0.81894564]\n",
      " [0.31972183 0.12745441 0.00588668 0.61831422 0.69373126 0.85213351]\n",
      " [0.02658954 0.26748114 0.76742942 0.1381857  0.16517163 0.05361565]\n",
      " [0.3956701  0.70897772 0.63447319 0.39177711 0.6070544  0.861706  ]] \n",
      "\n",
      " [4.8994339  2.74769192 3.89339991 3.76946137 1.42853902 4.17736272]\n"
     ]
    }
   ],
   "source": [
    "#6\n",
    "a = np.random.random((6,6))\n",
    "b = np.sum(a, axis = 1) / np.max(a, axis = 0)\n",
    "print(a, \"\\n\\n\", b)"
   ]
  },
  {
   "cell_type": "code",
   "execution_count": 12,
   "id": "a1c9a897-3154-4f22-980d-a25300948bc4",
   "metadata": {},
   "outputs": [
    {
     "name": "stdout",
     "output_type": "stream",
     "text": [
      "5\n"
     ]
    }
   ],
   "source": [
    "#7\n",
    "# понятное решение\n",
    "# x = np.array([6, 2, 0, 3, 0, 0, 5, 7, 0])\n",
    "# mask = np.roll(x == 0, 1)\n",
    "# mask[0] = 0\n",
    "# res = np.max(x[mask])\n",
    "# print(res)\n",
    "\n",
    "# в одну строчку)\n",
    "x = np.array([6, 2, 0, 3, 0, 0, 5, 7, 0])\n",
    "result = np.max(x[(mask := np.concatenate(([False], (x == 0)[:-1])))])\n",
    "print(result)\n"
   ]
  },
  {
   "cell_type": "code",
   "execution_count": 13,
   "id": "fff13490-24bf-473d-b8d5-e103fa2cd1b1",
   "metadata": {},
   "outputs": [
    {
     "name": "stdout",
     "output_type": "stream",
     "text": [
      "[2. 2. 2. 2. 1. 4. 1. 1. 2. 1.]\n"
     ]
    }
   ],
   "source": [
    "#8\n",
    "x = np.ones(10)\n",
    "i = np.array([0, 1, 2, 3, 5, 5, 5, 8])\n",
    "x += np.bincount(i, minlength = np.size(x))\n",
    "print(x)"
   ]
  },
  {
   "cell_type": "code",
   "execution_count": 18,
   "id": "72825f07-e977-4363-bea3-b625b9d9bd12",
   "metadata": {},
   "outputs": [
    {
     "name": "stdout",
     "output_type": "stream",
     "text": [
      "[[ 0  5  3]\n",
      " [ 5  5 10]\n",
      " [ 3  5  0]]\n"
     ]
    }
   ],
   "source": [
    "#9\n",
    "a = np.array([[1, 4.9, 2.4], [7.1, 7, 9.8], [2, 4.6, 1.2]])\n",
    "b = np.array([3, 5, 10, 0])\n",
    "result = b[np.abs(a[:, :, None] - b).argmin(axis=-1)]\n",
    "print(result)"
   ]
  },
  {
   "cell_type": "code",
   "execution_count": 17,
   "id": "5b0fca62-1992-44b1-8d79-8633ea349016",
   "metadata": {},
   "outputs": [
    {
     "name": "stdout",
     "output_type": "stream",
     "text": [
      "[2.76666667 4.8        5.5        7.96666667 6.26666667 2.26666667\n",
      " 0.53333333 0.26666667]\n"
     ]
    }
   ],
   "source": [
    "#10\n",
    "a = np.array([1, 4.9, 2.4, 7.1, 7, 9.8, 2, -5, 4.6, 1.2])\n",
    "res = np.convolve(a, np.ones(3)/3, mode='valid')\n",
    "print(res)"
   ]
  },
  {
   "cell_type": "code",
   "execution_count": null,
   "id": "707554bf-b734-41a7-9b24-a7635fe5f6d9",
   "metadata": {},
   "outputs": [],
   "source": []
  }
 ],
 "metadata": {
  "kernelspec": {
   "display_name": "Python 3 (ipykernel)",
   "language": "python",
   "name": "python3"
  },
  "language_info": {
   "codemirror_mode": {
    "name": "ipython",
    "version": 3
   },
   "file_extension": ".py",
   "mimetype": "text/x-python",
   "name": "python",
   "nbconvert_exporter": "python",
   "pygments_lexer": "ipython3",
   "version": "3.13.0"
  }
 },
 "nbformat": 4,
 "nbformat_minor": 5
}
