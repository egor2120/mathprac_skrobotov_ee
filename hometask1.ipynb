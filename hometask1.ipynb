{
 "cells": [
  {
   "cell_type": "code",
   "execution_count": 1,
   "id": "61494458-fa7a-4fb8-9670-712e377a68f0",
   "metadata": {},
   "outputs": [],
   "source": [
    "class Test:\n",
    "    @staticmethod\n",
    "    def assert_equals(a, b, *args, **kwargs):\n",
    "        assert a == b\n",
    "        print('Passed')\n",
    "        "
   ]
  },
  {
   "cell_type": "code",
   "execution_count": null,
   "id": "4095af83-2b23-4352-841f-9bb8cc93edec",
   "metadata": {},
   "outputs": [],
   "source": [
    "https://edabit.com/challenge/2zKetgAJp4WRFXiDT (2)"
   ]
  },
  {
   "cell_type": "code",
   "execution_count": 10,
   "id": "25a7b482-eaae-4497-a22b-1d707edb119d",
   "metadata": {},
   "outputs": [],
   "source": [
    "def number_length(n):\n",
    "    if n == 0:\n",
    "        return 1\n",
    "    c = 0\n",
    "    n = abs(n)\n",
    "    while n!= 0:\n",
    "        n = n // 10\n",
    "        c += 1\n",
    "    return c"
   ]
  },
  {
   "cell_type": "code",
   "execution_count": 11,
   "id": "90738256-0f22-4cb9-832a-17493708fdd4",
   "metadata": {},
   "outputs": [
    {
     "name": "stdout",
     "output_type": "stream",
     "text": [
      "Passed\n",
      "Passed\n",
      "Passed\n"
     ]
    }
   ],
   "source": [
    "Test.assert_equals(number_length(10), 2)\n",
    "Test.assert_equals(number_length(5000), 4)\n",
    "Test.assert_equals(number_length(0), 1)"
   ]
  },
  {
   "cell_type": "code",
   "execution_count": null,
   "id": "b5e20a7b-8a4f-4614-80a0-2ec3accd2129",
   "metadata": {},
   "outputs": [],
   "source": [
    "https://edabit.com/challenge/st8mDxreMcuWxuz8c (3)\n"
   ]
  },
  {
   "cell_type": "code",
   "execution_count": null,
   "id": "5e357580-ae10-4d07-8be1-b2c699b0b2fa",
   "metadata": {},
   "outputs": [],
   "source": []
  },
  {
   "cell_type": "code",
   "execution_count": 12,
   "id": "79c21273-9d12-43f3-838d-9ee38fe1a0d0",
   "metadata": {},
   "outputs": [],
   "source": [
    "def pentagonal(n):\n",
    "    return (5 * n * n - 5 * n + 2) // 2\n",
    "\n",
    "# 1 + 5 + 5*2 + 5*3 + ..."
   ]
  },
  {
   "cell_type": "code",
   "execution_count": 15,
   "id": "425a3a3d-2cc0-40fd-a861-8faa37ff383a",
   "metadata": {},
   "outputs": [
    {
     "name": "stdout",
     "output_type": "stream",
     "text": [
      "Passed\n",
      "Passed\n",
      "Passed\n",
      "Passed\n"
     ]
    }
   ],
   "source": [
    "Test.assert_equals(pentagonal(1), 1)\n",
    "Test.assert_equals(pentagonal(2), 6)\n",
    "Test.assert_equals(pentagonal(3), 16)\n",
    "Test.assert_equals(pentagonal(8), 141)"
   ]
  },
  {
   "cell_type": "code",
   "execution_count": null,
   "id": "322904e5-0e13-49b1-a32e-a6ecb771075e",
   "metadata": {},
   "outputs": [],
   "source": [
    "https://edabit.com/challenge/ksiA6Q34iXgTcMeZF (3)"
   ]
  },
  {
   "cell_type": "code",
   "execution_count": 18,
   "id": "63415c59-d929-4f52-bcc0-7ca610ce42ea",
   "metadata": {},
   "outputs": [],
   "source": [
    "def bonus(n):\n",
    "    return max(n - 32, 0) * 325 + max(n - 40, 0) * 225 + max(n - 48, 0) * 50"
   ]
  },
  {
   "cell_type": "code",
   "execution_count": 17,
   "id": "6d36a876-f34c-40ed-bda5-c6a9e2654e85",
   "metadata": {},
   "outputs": [
    {
     "name": "stdout",
     "output_type": "stream",
     "text": [
      "Passed\n",
      "Passed\n",
      "Passed\n"
     ]
    }
   ],
   "source": [
    "Test.assert_equals(bonus(15), 0)\n",
    "Test.assert_equals(bonus(37), 1625)\n",
    "Test.assert_equals(bonus(50), 8200)"
   ]
  },
  {
   "cell_type": "code",
   "execution_count": null,
   "id": "cebfa6cd-cd1a-474c-80ff-d84617df71ef",
   "metadata": {},
   "outputs": [],
   "source": [
    "https://edabit.com/challenge/z39yXccJGLAy3BDNX (3)"
   ]
  },
  {
   "cell_type": "code",
   "execution_count": 19,
   "id": "9093f842-23fb-4322-be76-d11a9d7615e1",
   "metadata": {},
   "outputs": [],
   "source": [
    "def flipping_bits(n):\n",
    "    mask = (1 << 32) - 1\n",
    "    return n ^ mask"
   ]
  },
  {
   "cell_type": "code",
   "execution_count": 20,
   "id": "ba5467b7-83be-404d-99ad-caf5ad8e2de3",
   "metadata": {},
   "outputs": [
    {
     "name": "stdout",
     "output_type": "stream",
     "text": [
      "Passed\n",
      "Passed\n",
      "Passed\n"
     ]
    }
   ],
   "source": [
    "Test.assert_equals(flipping_bits(2147483647), 2147483648)\n",
    "Test.assert_equals(flipping_bits(1), 4294967294)\n",
    "Test.assert_equals(flipping_bits(4), 4294967291)\n",
    "#flipping_bits(2147483647) ➞ 2147483648\n",
    "\n",
    "# flipping_bits(1) ➞ 4294967294\n",
    "\n",
    "# flipping_bits(4) ➞ 4294967291"
   ]
  },
  {
   "cell_type": "code",
   "execution_count": null,
   "id": "6230aa03-c922-40c3-9caf-43752943dc67",
   "metadata": {},
   "outputs": [],
   "source": [
    "https://edabit.com/challenge/xRMQG4Sxewx5agDRr (2)"
   ]
  },
  {
   "cell_type": "code",
   "execution_count": 22,
   "id": "f05d3fe6-e82b-4f9d-8d3a-5f56e9554b3e",
   "metadata": {},
   "outputs": [],
   "source": [
    "def find_highest(lst):\n",
    "    max = lst[0]\n",
    "    for i in range(1,len(lst)):\n",
    "        max = max if max > lst[i] else lst[i]\n",
    "    return max"
   ]
  },
  {
   "cell_type": "code",
   "execution_count": 23,
   "id": "00b7aec0-e73f-489b-9117-54a06b7e547e",
   "metadata": {},
   "outputs": [
    {
     "name": "stdout",
     "output_type": "stream",
     "text": [
      "Passed\n",
      "Passed\n",
      "Passed\n"
     ]
    }
   ],
   "source": [
    "Test.assert_equals(find_highest([-1, 3, 5, 6, 99, 12, 2]), 99)\n",
    "Test.assert_equals(find_highest([0, 12, 4, 87]), 87)\n",
    "Test.assert_equals(find_highest([8]), 8)"
   ]
  },
  {
   "cell_type": "code",
   "execution_count": null,
   "id": "d4da9f34-bd6b-48c2-a113-c97731bb032c",
   "metadata": {},
   "outputs": [],
   "source": [
    "https://edabit.com/challenge/3Ekam9jvbNKHDtx4K (2)"
   ]
  },
  {
   "cell_type": "code",
   "execution_count": 26,
   "id": "d3a2cc0c-b51d-4a4a-9a4e-41c8e5874fdb",
   "metadata": {},
   "outputs": [],
   "source": [
    "import math\n",
    "\n",
    "def line_length(point1, point2):\n",
    "    x1, y1 = point1\n",
    "    x2, y2 = point2\n",
    "    dx = x2 - x1\n",
    "    dy = y2 - y1\n",
    "    distance = math.sqrt(dx**2 + dy**2)\n",
    "    return round(distance, 2)"
   ]
  },
  {
   "cell_type": "code",
   "execution_count": 27,
   "id": "c863c020-1638-4c89-8749-dfd6da89606f",
   "metadata": {},
   "outputs": [
    {
     "name": "stdout",
     "output_type": "stream",
     "text": [
      "Passed\n",
      "Passed\n",
      "Passed\n"
     ]
    }
   ],
   "source": [
    "Test.assert_equals(line_length([15, 7], [22, 11]), 8.06)\n",
    "Test.assert_equals(line_length([0, 0], [0, 0]), 0)\n",
    "Test.assert_equals(line_length([0, 0], [1, 1]), 1.41)"
   ]
  },
  {
   "cell_type": "code",
   "execution_count": null,
   "id": "7c2a839d-a212-4f35-9878-eed3dd0cef74",
   "metadata": {},
   "outputs": [],
   "source": []
  }
 ],
 "metadata": {
  "kernelspec": {
   "display_name": "Python 3 (ipykernel)",
   "language": "python",
   "name": "python3"
  },
  "language_info": {
   "codemirror_mode": {
    "name": "ipython",
    "version": 3
   },
   "file_extension": ".py",
   "mimetype": "text/x-python",
   "name": "python",
   "nbconvert_exporter": "python",
   "pygments_lexer": "ipython3",
   "version": "3.13.0"
  }
 },
 "nbformat": 4,
 "nbformat_minor": 5
}
